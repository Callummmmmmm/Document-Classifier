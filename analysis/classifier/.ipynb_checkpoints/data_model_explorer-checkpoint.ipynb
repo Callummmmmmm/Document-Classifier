{
 "cells": [
  {
   "cell_type": "markdown",
   "id": "fa4d6dba",
   "metadata": {},
   "source": [
    "# Data Model Explorer\n",
    "\n",
    "Code to illustrate structure of data model files and how to access data.\n"
   ]
  },
  {
   "cell_type": "code",
   "execution_count": null,
   "id": "c88da256",
   "metadata": {},
   "outputs": [],
   "source": [
    "import json"
   ]
  },
  {
   "cell_type": "markdown",
   "id": "f60a7954",
   "metadata": {},
   "source": [
    "## Load data\n",
    "\n",
    "`segment_encodings.json` is not loaded, and is not required in the current set of analysis tools.\n"
   ]
  },
  {
   "cell_type": "code",
   "execution_count": null,
   "id": "0867e6d7",
   "metadata": {},
   "outputs": [],
   "source": [
    "file_name = '../../model/documents_dict.json'\n",
    "with open(file_name, 'r', encoding='utf-8') as f:\n",
    "    documents_dict = json.load(f)\n",
    "    f.close() \n",
    "\n",
    "file_name = '../../model/encoded_segments.json'\n",
    "with open(file_name, 'r', encoding='utf-8') as f:\n",
    "    encoded_segments = json.load(f)\n",
    "    f.close() \n",
    "\n",
    "file_name = '../../model/segments_dict.json'\n",
    "with open(file_name, 'r', encoding='utf-8') as f:\n",
    "    segments_dict = json.load(f)\n",
    "    f.close() \n",
    "\n",
    "file_name = '../../model/sat_segments_dict.json'\n",
    "with open(file_name, 'r', encoding='utf-8') as f:\n",
    "    sat_segments_dict = json.load(f)\n",
    "    f.close() \n",
    "    "
   ]
  },
  {
   "cell_type": "code",
   "execution_count": null,
   "id": "13000efe",
   "metadata": {},
   "outputs": [],
   "source": []
  },
  {
   "cell_type": "markdown",
   "id": "981671b5",
   "metadata": {},
   "source": [
    "## Documents\n",
    "\n",
    "In this application documents are national constitutions.\n"
   ]
  },
  {
   "cell_type": "code",
   "execution_count": null,
   "id": "4de82cdb",
   "metadata": {},
   "outputs": [],
   "source": [
    "# First 10 document IDs in dictionary\n",
    "print(list(documents_dict.keys())[0:10])\n",
    "print()\n",
    "\n",
    "\n",
    "doc_id = 'Slovenia_2016'\n",
    "\n",
    "print(documents_dict[doc_id])\n",
    "print()\n",
    "\n",
    "# Get the year of the document\n",
    "print(documents_dict[doc_id]['year_enacted'])\n",
    "print()\n",
    "\n",
    "# Get all the segment identifiers for this document - only show count and first 10\n",
    "segment_ids = [segment_id for segment_id,_ in segments_dict.items() if segment_id.split('/')[0]==doc_id]\n",
    "print('Total number of segments in document:',len(segment_ids))\n",
    "print(segment_ids[0:10])\n",
    "print()\n",
    "\n",
    "# Get encoded segments - could be smaller than total number of segments in document\n",
    "encoded_ids = [segment_id for segment_id in encoded_segments if segment_id.split('/')[0]==doc_id]\n",
    "print('Total number of encoded segments in document:',len(encoded_ids))\n",
    "print()\n",
    "\n"
   ]
  },
  {
   "cell_type": "code",
   "execution_count": null,
   "id": "c6e688c3",
   "metadata": {},
   "outputs": [],
   "source": []
  },
  {
   "cell_type": "markdown",
   "id": "3fdff4fe",
   "metadata": {},
   "source": [
    "## Segments\n",
    "\n",
    "Segments are sections in constitution text.\n"
   ]
  },
  {
   "cell_type": "code",
   "execution_count": null,
   "id": "dd6c026e",
   "metadata": {},
   "outputs": [],
   "source": [
    "# First 10 segment IDs in dictionary\n",
    "print(list(segments_dict.keys())[0:10])\n",
    "print()\n",
    "\n",
    "# How many segments in total\n",
    "print('Total segments in corpus:',len(segments_dict.keys()))\n",
    "print()\n",
    "\n",
    "# How many encoded\n",
    "print('Total encoded segments in corpus:',len(encoded_segments))\n",
    "print()\n",
    "\n",
    "segment_id = 'Slovenia_2016/2'\n",
    "\n",
    "# Clean text\n",
    "print(segments_dict[segment_id]['text'])\n",
    "print()\n",
    "\n",
    "# Get segment's document data\n",
    "doc_name = documents_dict[segment_id.split('/')[0]]['name']\n",
    "print(doc_name)\n",
    "print()\n",
    "\n"
   ]
  },
  {
   "cell_type": "code",
   "execution_count": null,
   "id": "3264746f",
   "metadata": {},
   "outputs": [],
   "source": []
  },
  {
   "cell_type": "markdown",
   "id": "d809c5e8",
   "metadata": {},
   "source": [
    "## SAT segments\n",
    "\n",
    "SAT means segments as topic. A SAT comprise a set of segments(above) that have been tagged by a human with a topic. Topics are the key.\n"
   ]
  },
  {
   "cell_type": "code",
   "execution_count": null,
   "id": "7f6597a4",
   "metadata": {
    "scrolled": false
   },
   "outputs": [],
   "source": [
    "\n",
    "# How many topics\n",
    "print(len(sat_segments_dict.keys()))\n",
    "print()\n",
    "\n",
    "# First 10 topics\n",
    "print(list(sat_segments_dict.keys())[0:10])\n",
    "print()\n",
    "\n",
    "# Segment IDs for a SAT\n",
    "sat_segment_ids = sat_segments_dict['equalgr5']\n",
    "print(sat_segment_ids)\n",
    "print()\n",
    "\n",
    "\n",
    "# Recover the segments text from the IDs\n",
    "for segment_id in sat_segment_ids:\n",
    "    print(segment_id,segments_dict[segment_id]['text'])\n",
    "    print()\n"
   ]
  },
  {
   "cell_type": "code",
   "execution_count": null,
   "id": "9920469e",
   "metadata": {},
   "outputs": [],
   "source": []
  }
 ],
 "metadata": {
  "kernelspec": {
   "display_name": "Python 3 (ipykernel)",
   "language": "python",
   "name": "python3"
  },
  "language_info": {
   "codemirror_mode": {
    "name": "ipython",
    "version": 3
   },
   "file_extension": ".py",
   "mimetype": "text/x-python",
   "name": "python",
   "nbconvert_exporter": "python",
   "pygments_lexer": "ipython3",
   "version": "3.9.13"
  }
 },
 "nbformat": 4,
 "nbformat_minor": 5
}
