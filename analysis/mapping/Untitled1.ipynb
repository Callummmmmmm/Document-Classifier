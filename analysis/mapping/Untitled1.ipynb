{
 "cells": [
  {
   "cell_type": "code",
   "execution_count": 1,
   "id": "d8caa366",
   "metadata": {},
   "outputs": [
    {
     "name": "stderr",
     "output_type": "stream",
     "text": [
      "<frozen importlib._bootstrap>:241: RuntimeWarning: compiletime version 3.9 of module 'angular_distance' does not match runtime version 3.1\n",
      "<frozen importlib._bootstrap>:241: RuntimeWarning: builtins.type size changed, may indicate binary incompatibility. Expected 880 from C header, got 888 from PyObject\n"
     ]
    }
   ],
   "source": [
    "%run ./_library/packages.py\n",
    "\n",
    "# Load the necessary data files\n",
    "with open('../../model/documents_dict.json', 'r', encoding='utf-8') as f:\n",
    "    documents = json.load(f)\n",
    "\n",
    "with open('../../model/encoded_segments.json', 'r', encoding='utf-8') as f:\n",
    "    encoded_segments = json.load(f)\n",
    "\n",
    "with open('../../model/segment_encodings.json', 'r', encoding='utf-8') as f:\n",
    "    segment_encodings = json.load(f)  \n",
    "\n",
    "with open('../../model/sat_segments_dict.json', 'r', encoding='utf-8') as f:\n",
    "    sat_segments_dict = json.load(f)"
   ]
  },
  {
   "cell_type": "code",
   "execution_count": 3,
   "id": "441b4913",
   "metadata": {},
   "outputs": [],
   "source": [
    "# Creating list of SAT topics.\n",
    "#topics = list(sat_segments_dict.keys())\n",
    "topics = ['referen']"
   ]
  },
  {
   "cell_type": "code",
   "execution_count": null,
   "id": "40ed0242",
   "metadata": {},
   "outputs": [
    {
     "name": "stdout",
     "output_type": "stream",
     "text": [
      "Selected SAT: referen\n",
      "Number of segments in SAT: 348\n",
      "\n",
      "Building matrix…\n"
     ]
    }
   ],
   "source": [
    "total_TP = 0\n",
    "total_FN = 0\n",
    "total_FP = 0\n",
    "total_TN = 0\n",
    "\n",
    "for sat_topic in topics:    \n",
    "    # Print selected SAT topic\n",
    "    print('Selected SAT:', sat_topic)\n",
    "\n",
    "    # Step 1: Get the encoding vectors for the SAT\n",
    "    sat_segment_ids = sat_segments_dict[sat_topic]\n",
    "    sat_segment_indices = [encoded_segments.index(segment_id) for segment_id in sat_segment_ids]\n",
    "    sat_encodings = [segment_encodings[index] for index in sat_segment_indices]\n",
    "\n",
    "    print('Number of segments in SAT:', len(sat_segment_ids))\n",
    "    print()\n",
    "\n",
    "    # Step 2: Build a similarity matrix with SAT segments in rows and corpus segments in columns\n",
    "    print('Building matrix…')\n",
    "    sim_matrix = cdist(sat_encodings, segment_encodings, ad.angular_distance)  # Cosine similarity\n",
    "    print('Similarity matrix dimensions:', sim_matrix.shape)\n",
    "    print()\n",
    "\n",
    "    # Step 3: Set a similarity threshold for classification\n",
    "    threshold = 0.8\n",
    "\n",
    "    # Step 4: Initialize counters for True Positives (TP), False Negatives (FN), False Positives (FP), and True Negatives (TN)\n",
    "    TP = 0\n",
    "    FN = 0\n",
    "    FP = 0\n",
    "    TN = 0\n",
    "\n",
    "    # Step 5: For each segment, classify based on similarity threshold\n",
    "    for idx, sentence_id in enumerate(encoded_segments):\n",
    "        # Get the similarity values for each SAT segment to the current sentence\n",
    "        similarities = sim_matrix[:, idx]\n",
    "\n",
    "        # Segments predicted to be similar (above threshold)\n",
    "        predicted_similar = similarities >= threshold\n",
    "\n",
    "        # Segments that are actually part of the SAT topic (actual similar)\n",
    "        actual_similar = sentence_id in sat_segments_dict[sat_topic]\n",
    "\n",
    "        # True Positives (TP): Segments that were correctly predicted as similar to the SAT topic\n",
    "        if predicted_similar.any() and actual_similar:\n",
    "            TP += 1\n",
    "\n",
    "        # False Negatives (FN): Segments that are part of the SAT topic but predicted below the threshold\n",
    "        if not predicted_similar.any() and actual_similar:\n",
    "            FN += 1\n",
    "\n",
    "        # False Positives (FP): Segments that were incorrectly predicted as similar to the SAT topic\n",
    "        if predicted_similar.any() and not actual_similar:\n",
    "            FP += 1\n",
    "\n",
    "        # True Negatives (TN): Segments that were correctly predicted as not similar to the SAT topic\n",
    "        if not predicted_similar.any() and not actual_similar:\n",
    "            TN += 1\n",
    "\n",
    "    # Output the results\n",
    "    print(f\"True Positives (TP): {TP}\")\n",
    "    print(f\"False Negatives (FN): {FN}\")\n",
    "    print(f\"False Positives (FP): {FP}\")\n",
    "    print(f\"True Negatives (TN): {TN}\")"
   ]
  },
  {
   "cell_type": "code",
   "execution_count": null,
   "id": "3e862be2",
   "metadata": {},
   "outputs": [],
   "source": []
  }
 ],
 "metadata": {
  "kernelspec": {
   "display_name": "Python 3 (ipykernel)",
   "language": "python",
   "name": "python3"
  },
  "language_info": {
   "codemirror_mode": {
    "name": "ipython",
    "version": 3
   },
   "file_extension": ".py",
   "mimetype": "text/x-python",
   "name": "python",
   "nbconvert_exporter": "python",
   "pygments_lexer": "ipython3",
   "version": "3.10.9"
  }
 },
 "nbformat": 4,
 "nbformat_minor": 5
}
